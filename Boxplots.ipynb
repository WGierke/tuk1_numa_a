{
 "cells": [
  {
   "cell_type": "code",
   "execution_count": 6,
   "metadata": {},
   "outputs": [],
   "source": [
    "import json\n",
    "import os\n",
    "import glob\n",
    "import re\n",
    "import matplotlib.pyplot as plt"
   ]
  },
  {
   "cell_type": "code",
   "execution_count": 7,
   "metadata": {},
   "outputs": [
    {
     "name": "stdout",
     "output_type": "stream",
     "text": [
      "0\n",
      "1\n",
      "2\n",
      "3\n",
      "4\n",
      "5\n",
      "6\n",
      "7\n",
      "8\n",
      "9\n"
     ]
    }
   ],
   "source": [
    "for i in range(10):\n",
    "    print(i)\n",
    "    os.system(\"./build/src/tuk_numa_benchmark --benchmark_format=json > sequential_{}.json\".format(i))"
   ]
  },
  {
   "cell_type": "code",
   "execution_count": 8,
   "metadata": {
    "collapsed": true
   },
   "outputs": [],
   "source": [
    "def add_benchmarks(merged_dict, f_dict):\n",
    "    for benchmark in f_dict['benchmarks']:\n",
    "        merged_dict[benchmark['name']].append(benchmark['real_time'])\n",
    "    return merged_dict"
   ]
  },
  {
   "cell_type": "code",
   "execution_count": 20,
   "metadata": {},
   "outputs": [
    {
     "data": {
      "text/plain": [
       "{'BM_ColumnScan_1M_Rows__LocalCols/1': [126,\n",
       "  185,\n",
       "  120,\n",
       "  125,\n",
       "  119,\n",
       "  140,\n",
       "  119,\n",
       "  120,\n",
       "  121,\n",
       "  153],\n",
       " 'BM_ColumnScan_1M_Rows__LocalCols/2': [315,\n",
       "  314,\n",
       "  308,\n",
       "  465,\n",
       "  299,\n",
       "  334,\n",
       "  299,\n",
       "  346,\n",
       "  303,\n",
       "  316],\n",
       " 'BM_ColumnScan_1M_Rows__LocalCols/4': [1030,\n",
       "  728,\n",
       "  729,\n",
       "  740,\n",
       "  731,\n",
       "  979,\n",
       "  754,\n",
       "  860,\n",
       "  830,\n",
       "  757],\n",
       " 'BM_ColumnScan_1M_Rows__LocalCols/8': [1679,\n",
       "  1676,\n",
       "  1497,\n",
       "  1502,\n",
       "  1506,\n",
       "  1537,\n",
       "  1522,\n",
       "  1730,\n",
       "  1518,\n",
       "  1718],\n",
       " 'BM_ColumnScan_1M_Rows__RemoteCols/1': [145,\n",
       "  119,\n",
       "  119,\n",
       "  160,\n",
       "  119,\n",
       "  124,\n",
       "  122,\n",
       "  126,\n",
       "  118,\n",
       "  133],\n",
       " 'BM_ColumnScan_1M_Rows__RemoteCols/2': [448,\n",
       "  315,\n",
       "  387,\n",
       "  379,\n",
       "  387,\n",
       "  329,\n",
       "  302,\n",
       "  369,\n",
       "  416,\n",
       "  346],\n",
       " 'BM_ColumnScan_1M_Rows__RemoteCols/4': [959,\n",
       "  802,\n",
       "  849,\n",
       "  885,\n",
       "  1068,\n",
       "  793,\n",
       "  754,\n",
       "  870,\n",
       "  1124,\n",
       "  842],\n",
       " 'BM_ColumnScan_1M_Rows__RemoteCols/8': [1764,\n",
       "  1475,\n",
       "  1502,\n",
       "  1703,\n",
       "  1599,\n",
       "  1765,\n",
       "  1499,\n",
       "  1580,\n",
       "  2051,\n",
       "  1521]}"
      ]
     },
     "execution_count": 20,
     "metadata": {},
     "output_type": "execute_result"
    }
   ],
   "source": [
    "json_files = glob.glob('*.json')\n",
    "merged_dict = dict()\n",
    "for json_file in json_files:\n",
    "    f = open(json_file, \"r\").read()\n",
    "    f_dict = json.loads(re.sub(r'0{5,}', '', f))\n",
    "    if not bool(merged_dict):\n",
    "    # Dict is empty\n",
    "        for benchmark in f_dict['benchmarks']:\n",
    "            merged_dict[benchmark['name']] = []\n",
    "    merged_dict = add_benchmarks(merged_dict, f_dict) \n",
    "\n",
    "merged_dict_copy = merged_dict.copy()\n",
    "for key in merged_dict_copy.keys():\n",
    "    if '/0' in key:\n",
    "        del merged_dict[key]\n",
    "        \n",
    "merged_dict"
   ]
  },
  {
   "cell_type": "code",
   "execution_count": 29,
   "metadata": {},
   "outputs": [
    {
     "data": {
      "image/png": "[encoded data removed]",
      "text/plain": [
       "<matplotlib.figure.Figure at 0x7f07bfd5a0b8>"
      ]
     },
     "metadata": {},
     "output_type": "display_data"
    }
   ],
   "source": [
    "import numpy as np\n",
    "import matplotlib.pyplot as plt\n",
    "from matplotlib.patches import Polygon\n",
    "N = 500\n",
    "numDists = 4\n",
    "sortedKeys = ['BM_ColumnScan_1M_Rows__LocalCols/1', 'BM_ColumnScan_1M_Rows__RemoteCols/1', 'BM_ColumnScan_1M_Rows__LocalCols/2', 'BM_ColumnScan_1M_Rows__RemoteCols/2', 'BM_ColumnScan_1M_Rows__LocalCols/4', 'BM_ColumnScan_1M_Rows__RemoteCols/4', 'BM_ColumnScan_1M_Rows__LocalCols/8', 'BM_ColumnScan_1M_Rows__RemoteCols/8']\n",
    "\n",
    "randomDists = sorted([x.replace('BM_ColumnScan_1GB_Sequential_', '') for x in sortedKeys])\n",
    "randomDists = [label.split('_')[1].split('_')[0] for label in randomDists]\n",
    "data = [merged_dict[k] for k in sortedKeys]\n",
    "\n",
    "fig, ax1 = plt.subplots(figsize=(10, 6))\n",
    "fig.canvas.set_window_title('A Boxplot Example')\n",
    "plt.subplots_adjust(left=0.075, right=0.95, top=0.9, bottom=0.25)\n",
    "\n",
    "bp = plt.boxplot(data, notch=0, sym='+', vert=1, whis=1.5)\n",
    "plt.setp(bp['boxes'], color='black')\n",
    "plt.setp(bp['whiskers'], color='black')\n",
    "plt.setp(bp['fliers'], color='red', marker='+')\n",
    "\n",
    "# Add a horizontal grid to the plot, but make it very light in color\n",
    "# so we can use it for reading data values but not be distracting\n",
    "ax1.yaxis.grid(True, linestyle='-', which='major', color='lightgrey', alpha=0.5)\n",
    "\n",
    "# Hide these grid behind plot objects\n",
    "ax1.set_axisbelow(True)\n",
    "ax1.set_title('Comparison of numer of columns for sequential access')\n",
    "ax1.set_xlabel('Number of Columns')\n",
    "ax1.set_ylabel('Time [μs]')\n",
    "\n",
    "# Now fill the boxes with desired colors\n",
    "boxColors = ['darkkhaki', 'royalblue']\n",
    "numBoxes = numDists*2\n",
    "medians = list(range(numBoxes))\n",
    "for i in range(numBoxes):\n",
    "    box = bp['boxes'][i]\n",
    "    boxX = []\n",
    "    boxY = []\n",
    "    for j in range(5):\n",
    "        boxX.append(box.get_xdata()[j])\n",
    "        boxY.append(box.get_ydata()[j])\n",
    "    boxCoords = list(zip(boxX, boxY))\n",
    "    # Alternate between Dark Khaki and Royal Blue\n",
    "    k = i % 2\n",
    "    boxPolygon = Polygon(boxCoords, facecolor=boxColors[k])\n",
    "    ax1.add_patch(boxPolygon)\n",
    "    # Now draw the median lines back over what we just filled in\n",
    "    med = bp['medians'][i]\n",
    "    medianX = []\n",
    "    medianY = []\n",
    "    for j in range(2):\n",
    "        medianX.append(med.get_xdata()[j])\n",
    "        medianY.append(med.get_ydata()[j])\n",
    "        plt.plot(medianX, medianY, 'k')\n",
    "        medians[i] = medianY[0]\n",
    "    #plt.plot([np.average(med.get_xdata())], [np.average(data[i])], color='w', marker='*', markeredgecolor='k')\n",
    "\n",
    "\n",
    "ax1.set_xlim(0.5, numBoxes + 0.5)\n",
    "top = 2200\n",
    "bottom = 0\n",
    "ax1.set_ylim(bottom, top)\n",
    "xtickNames = plt.setp(ax1, xticklabels=np.repeat(randomDists, 2))\n",
    "plt.setp(xtickNames, fontsize=8)\n",
    "\n",
    "pos = np.arange(numBoxes) + 1\n",
    "upperLabels = [str(np.round(s, 2)) for s in medians]\n",
    "weights = ['bold', 'semibold']\n",
    "for tick, label in zip(range(numBoxes), ax1.get_xticklabels()):\n",
    "    k = tick % 2\n",
    "    ax1.text(pos[tick], top - (top*0.05), upperLabels[tick],\n",
    "             horizontalalignment='center', size='medium', weight=weights[k],\n",
    "             color=boxColors[k])\n",
    "\n",
    "plt.figtext(0.80, 0.08, 'Local', backgroundcolor=boxColors[0], color='black', weight='roman', size='small')\n",
    "plt.figtext(0.80, 0.045, 'Remote', backgroundcolor=boxColors[1],\n",
    "            color='white', weight='roman', size='small')\n",
    "#plt.figtext(0.80, 0.015, '*', color='white', backgroundcolor='silver', weight='roman', size='small')\n",
    "#plt.figtext(0.815, 0.013, ' Average Value', color='black', weight='roman', size='x-small')\n",
    "\n",
    "plt.plot()\n",
    "plt.savefig(\"sequential.svg\", format=\"svg\")\n",
    "plt.show()"
   ]
  },
  {
   "cell_type": "code",
   "execution_count": null,
   "metadata": {
    "collapsed": true
   },
   "outputs": [],
   "source": []
  }
 ],
 "metadata": {
  "kernelspec": {
   "display_name": "venv",
   "language": "python",
   "name": "venv"
  },
  "language_info": {
   "codemirror_mode": {
    "name": "ipython",
    "version": 3
   },
   "file_extension": ".py",
   "mimetype": "text/x-python",
   "name": "python",
   "nbconvert_exporter": "python",
   "pygments_lexer": "ipython3",
   "version": "3.5.2"
  }
 },
 "nbformat": 4,
 "nbformat_minor": 2
}
