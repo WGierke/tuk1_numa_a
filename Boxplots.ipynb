{
 "cells": [
  {
   "cell_type": "code",
   "execution_count": 1,
   "metadata": {},
   "outputs": [],
   "source": [
    "import json\n",
    "import os\n",
    "import glob\n",
    "import matplotlib.pyplot as plt"
   ]
  },
  {
   "cell_type": "code",
   "execution_count": 2,
   "metadata": {},
   "outputs": [
    {
     "name": "stdout",
     "output_type": "stream",
     "text": [
      "0\n",
      "1\n",
      "2\n",
      "3\n",
      "4\n",
      "5\n",
      "6\n",
      "7\n",
      "8\n",
      "9\n"
     ]
    }
   ],
   "source": [
    "for i in range(10):\n",
    "    print(i)\n",
    "    os.system(\"./build/src/tuk_numa_benchmark --benchmark_format=json > sequential_{}.json\".format(i))"
   ]
  },
  {
   "cell_type": "code",
   "execution_count": 3,
   "metadata": {
    "collapsed": true
   },
   "outputs": [],
   "source": [
    "def add_benchmarks(merged_dict, f_dict):\n",
    "    for benchmark in f_dict['benchmarks']:\n",
    "        merged_dict[benchmark['name']].append(benchmark['real_time'])\n",
    "    return merged_dict"
   ]
  },
  {
   "cell_type": "code",
   "execution_count": 4,
   "metadata": {},
   "outputs": [
    {
     "data": {
      "text/plain": [
       "{'BM_ColumnScan_1GB_Sequential_Local_1_Columns': [62,\n",
       "  53,\n",
       "  48,\n",
       "  58,\n",
       "  44,\n",
       "  44,\n",
       "  51,\n",
       "  54,\n",
       "  62,\n",
       "  57],\n",
       " 'BM_ColumnScan_1GB_Sequential_Local_2_Columns': [127,\n",
       "  100,\n",
       "  96,\n",
       "  91,\n",
       "  106,\n",
       "  90,\n",
       "  98,\n",
       "  89,\n",
       "  100,\n",
       "  89],\n",
       " 'BM_ColumnScan_1GB_Sequential_Local_4_Columns': [242,\n",
       "  181,\n",
       "  196,\n",
       "  182,\n",
       "  268,\n",
       "  208,\n",
       "  217,\n",
       "  218,\n",
       "  199,\n",
       "  176],\n",
       " 'BM_ColumnScan_1GB_Sequential_Local_8_Columns': [476,\n",
       "  529,\n",
       "  385,\n",
       "  383,\n",
       "  530,\n",
       "  353,\n",
       "  398,\n",
       "  358,\n",
       "  397,\n",
       "  355],\n",
       " 'BM_ColumnScan_1GB_Sequential_Remote_1_Columns': [68,\n",
       "  63,\n",
       "  49,\n",
       "  50,\n",
       "  63,\n",
       "  44,\n",
       "  48,\n",
       "  58,\n",
       "  60,\n",
       "  56],\n",
       " 'BM_ColumnScan_1GB_Sequential_Remote_2_Columns': [117,\n",
       "  125,\n",
       "  97,\n",
       "  96,\n",
       "  136,\n",
       "  91,\n",
       "  96,\n",
       "  90,\n",
       "  102,\n",
       "  90],\n",
       " 'BM_ColumnScan_1GB_Sequential_Remote_4_Columns': [239,\n",
       "  252,\n",
       "  194,\n",
       "  201,\n",
       "  178,\n",
       "  176,\n",
       "  194,\n",
       "  208,\n",
       "  204,\n",
       "  179],\n",
       " 'BM_ColumnScan_1GB_Sequential_Remote_8_Columns': [488,\n",
       "  502,\n",
       "  401,\n",
       "  491,\n",
       "  403,\n",
       "  454,\n",
       "  397,\n",
       "  383,\n",
       "  415,\n",
       "  478]}"
      ]
     },
     "execution_count": 4,
     "metadata": {},
     "output_type": "execute_result"
    }
   ],
   "source": [
    "json_files = glob.glob('*.json')\n",
    "merged_dict = dict()\n",
    "for json_file in json_files:\n",
    "    f = open(json_file, \"r\").read()\n",
    "    f_dict = json.loads(f.replace('\\x00', ''))\n",
    "    if not bool(merged_dict):\n",
    "    # Dict is empty\n",
    "        for benchmark in f_dict['benchmarks']:\n",
    "            merged_dict[benchmark['name']] = []\n",
    "    merged_dict = add_benchmarks(merged_dict, f_dict) \n",
    "merged_dict"
   ]
  },
  {
   "cell_type": "code",
   "execution_count": 5,
   "metadata": {},
   "outputs": [
    {
     "data": {
      "image/png": "[encoded data removed]",
      "text/plain": [
       "<matplotlib.figure.Figure at 0x7f07c21b8dd8>"
      ]
     },
     "metadata": {},
     "output_type": "display_data"
    }
   ],
   "source": [
    "import numpy as np\n",
    "import matplotlib.pyplot as plt\n",
    "from matplotlib.patches import Polygon\n",
    "N = 500\n",
    "numDists = 4\n",
    "sortedKeys = ['BM_ColumnScan_1GB_Sequential_Local_1_Columns', 'BM_ColumnScan_1GB_Sequential_Remote_1_Columns', 'BM_ColumnScan_1GB_Sequential_Local_2_Columns', 'BM_ColumnScan_1GB_Sequential_Remote_2_Columns',\n",
    "             'BM_ColumnScan_1GB_Sequential_Local_4_Columns', 'BM_ColumnScan_1GB_Sequential_Remote_4_Columns', 'BM_ColumnScan_1GB_Sequential_Local_8_Columns', 'BM_ColumnScan_1GB_Sequential_Remote_8_Columns']\n",
    "\n",
    "randomDists = sorted([x.replace('BM_ColumnScan_1GB_Sequential_', '') for x in sortedKeys])\n",
    "randomDists = [label.split('_')[1].split('_')[0] for label in randomDists]\n",
    "data = [merged_dict[k] for k in sortedKeys]\n",
    "\n",
    "fig, ax1 = plt.subplots(figsize=(10, 6))\n",
    "fig.canvas.set_window_title('A Boxplot Example')\n",
    "plt.subplots_adjust(left=0.075, right=0.95, top=0.9, bottom=0.25)\n",
    "\n",
    "bp = plt.boxplot(data, notch=0, sym='+', vert=1, whis=1.5)\n",
    "plt.setp(bp['boxes'], color='black')\n",
    "plt.setp(bp['whiskers'], color='black')\n",
    "plt.setp(bp['fliers'], color='red', marker='+')\n",
    "\n",
    "# Add a horizontal grid to the plot, but make it very light in color\n",
    "# so we can use it for reading data values but not be distracting\n",
    "ax1.yaxis.grid(True, linestyle='-', which='major', color='lightgrey', alpha=0.5)\n",
    "\n",
    "# Hide these grid behind plot objects\n",
    "ax1.set_axisbelow(True)\n",
    "ax1.set_title('Comparison of numer of columns for sequential access')\n",
    "ax1.set_xlabel('Number of Columns')\n",
    "ax1.set_ylabel('Time [ms]')\n",
    "\n",
    "# Now fill the boxes with desired colors\n",
    "boxColors = ['darkkhaki', 'royalblue']\n",
    "numBoxes = numDists*2\n",
    "medians = list(range(numBoxes))\n",
    "for i in range(numBoxes):\n",
    "    box = bp['boxes'][i]\n",
    "    boxX = []\n",
    "    boxY = []\n",
    "    for j in range(5):\n",
    "        boxX.append(box.get_xdata()[j])\n",
    "        boxY.append(box.get_ydata()[j])\n",
    "    boxCoords = list(zip(boxX, boxY))\n",
    "    # Alternate between Dark Khaki and Royal Blue\n",
    "    k = i % 2\n",
    "    boxPolygon = Polygon(boxCoords, facecolor=boxColors[k])\n",
    "    ax1.add_patch(boxPolygon)\n",
    "    # Now draw the median lines back over what we just filled in\n",
    "    med = bp['medians'][i]\n",
    "    medianX = []\n",
    "    medianY = []\n",
    "    for j in range(2):\n",
    "        medianX.append(med.get_xdata()[j])\n",
    "        medianY.append(med.get_ydata()[j])\n",
    "        plt.plot(medianX, medianY, 'k')\n",
    "        medians[i] = medianY[0]\n",
    "    #plt.plot([np.average(med.get_xdata())], [np.average(data[i])], color='w', marker='*', markeredgecolor='k')\n",
    "\n",
    "\n",
    "ax1.set_xlim(0.5, numBoxes + 0.5)\n",
    "top = 650\n",
    "bottom = 0\n",
    "ax1.set_ylim(bottom, top)\n",
    "xtickNames = plt.setp(ax1, xticklabels=np.repeat(randomDists, 2))\n",
    "plt.setp(xtickNames, fontsize=8)\n",
    "\n",
    "pos = np.arange(numBoxes) + 1\n",
    "upperLabels = [str(np.round(s, 2)) for s in medians]\n",
    "weights = ['bold', 'semibold']\n",
    "for tick, label in zip(range(numBoxes), ax1.get_xticklabels()):\n",
    "    k = tick % 2\n",
    "    ax1.text(pos[tick], top - (top*0.05), upperLabels[tick],\n",
    "             horizontalalignment='center', size='medium', weight=weights[k],\n",
    "             color=boxColors[k])\n",
    "\n",
    "plt.figtext(0.80, 0.08, 'Local', backgroundcolor=boxColors[0], color='black', weight='roman', size='small')\n",
    "plt.figtext(0.80, 0.045, 'Remote', backgroundcolor=boxColors[1],\n",
    "            color='white', weight='roman', size='small')\n",
    "#plt.figtext(0.80, 0.015, '*', color='white', backgroundcolor='silver', weight='roman', size='small')\n",
    "#plt.figtext(0.815, 0.013, ' Average Value', color='black', weight='roman', size='x-small')\n",
    "\n",
    "plt.plot()\n",
    "plt.savefig(\"sequential.svg\", format=\"svg\")\n",
    "plt.show()"
   ]
  },
  {
   "cell_type": "code",
   "execution_count": null,
   "metadata": {
    "collapsed": true
   },
   "outputs": [],
   "source": []
  }
 ],
 "metadata": {
  "kernelspec": {
   "display_name": "venv",
   "language": "python",
   "name": "venv"
  },
  "language_info": {
   "codemirror_mode": {
    "name": "ipython",
    "version": 3
   },
   "file_extension": ".py",
   "mimetype": "text/x-python",
   "name": "python",
   "nbconvert_exporter": "python",
   "pygments_lexer": "ipython3",
   "version": "3.5.2"
  }
 },
 "nbformat": 4,
 "nbformat_minor": 2
}
